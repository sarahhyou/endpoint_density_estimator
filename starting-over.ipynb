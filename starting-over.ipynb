{
 "cells": [
  {
   "cell_type": "markdown",
   "metadata": {},
   "source": [
    "motive: We are attempting to use a constant-scaling method to perform endpoint estimations for beta and (possibly) gamma distributions. \n",
    "Basic steps are as follows:\n",
    "1. Simulate a bunch of points and take some upper proportion p (upper thirds, upper quartile, etc.)\n",
    "2. Calculate the standard deviation of the sample\n",
    "3. Figure out what constant $c * \\hat{\\sigma}$ added to the sample maximum would get close to 1\n",
    "4. Repeat 1-3 and obtain average of $c$ s.\n",
    "5. Test on different Beta distributions (and maybe Gamma distributions). Is there a general rule?"
   ]
  },
  {
   "cell_type": "code",
   "execution_count": 1,
   "metadata": {},
   "outputs": [],
   "source": [
    "import numpy as np"
   ]
  },
  {
   "cell_type": "code",
   "execution_count": 2,
   "metadata": {},
   "outputs": [
    {
     "name": "stdout",
     "output_type": "stream",
     "text": [
      "1.4094303685479377\n"
     ]
    }
   ],
   "source": [
    "#Start with one instance of Beta(2,5) distribution\n",
    "rng = np.random.default_rng(seed=2024)\n",
    "sample = rng.beta(2,5,1000) #sample 1000 points from distribution\n",
    "cutoff = np.percentile(sample, 66.7) #find cutoff for top third\n",
    "test_sample = sample[sample > cutoff] #get top third\n",
    "sd = np.std(test_sample) #get standard deviation\n",
    "c = (1-np.max(test_sample)) / sd #get constant\n",
    "print(c)"
   ]
  },
  {
   "cell_type": "code",
   "execution_count": 5,
   "metadata": {},
   "outputs": [
    {
     "name": "stdout",
     "output_type": "stream",
     "text": [
      "1.7387708266295254\n",
      "1.5347307766516332\n",
      "1.368164842801356\n",
      "1.4332018829413757\n",
      "1.3064344030175945\n"
     ]
    }
   ],
   "source": [
    "#Repeating steps 1-3 on the same Beta(2,5) distribution\n",
    "for seed in np.array([2,34,567,2021,0]):\n",
    "    rng = np.random.default_rng(seed=seed)\n",
    "    sample = rng.beta(2,5,1000) #sample 1000 points from distribution\n",
    "    cutoff = np.percentile(sample, 66.7) #find cutoff for top third\n",
    "    test_sample = sample[sample > cutoff] #get top third\n",
    "    sd = np.std(test_sample) #get standard deviation\n",
    "    c = (1-np.max(test_sample)) / sd #get constant\n",
    "    "
   ]
  },
  {
   "cell_type": "code",
   "execution_count": 7,
   "metadata": {},
   "outputs": [
    {
     "name": "stdout",
     "output_type": "stream",
     "text": [
      "1.476260546408297\n"
     ]
    }
   ],
   "source": [
    "cs = []\n",
    "for seed in np.array([2,34,567,2021,0]):\n",
    "    rng = np.random.default_rng(seed=seed)\n",
    "    sample = rng.beta(2,5,1000) \n",
    "    cutoff = np.percentile(sample, 66.7) \n",
    "    test_sample = sample[sample > cutoff] \n",
    "    sd = np.std(test_sample) \n",
    "    c = (1-np.max(test_sample)) / sd \n",
    "    cs.append(c)\n",
    "print(np.average(cs))"
   ]
  },
  {
   "cell_type": "code",
   "execution_count": 10,
   "metadata": {},
   "outputs": [
    {
     "name": "stdout",
     "output_type": "stream",
     "text": [
      "[2.5413629722180695, 1.8449258635121517, 1.476260546408297, 1.2829521053560058]\n"
     ]
    }
   ],
   "source": [
    "avg_cs = []\n",
    "for sample_sizes in np.array([200,500,1000,5000]):\n",
    "    cs = []\n",
    "    for seed in np.array([2,34,567,2021,0]):\n",
    "        rng = np.random.default_rng(seed=seed)\n",
    "        sample = rng.beta(2,5,sample_sizes) \n",
    "        cutoff = np.percentile(sample, 66.7) \n",
    "        test_sample = sample[sample > cutoff] \n",
    "        sd = np.std(test_sample) \n",
    "        c = (1-np.max(test_sample)) / sd \n",
    "        cs.append(c)\n",
    "    avg_cs.append(np.average(cs))\n",
    "print(avg_cs)"
   ]
  },
  {
   "cell_type": "code",
   "execution_count": 12,
   "metadata": {},
   "outputs": [
    {
     "name": "stdout",
     "output_type": "stream",
     "text": [
      "[0.0007143143689919895, 0.01182623376629679, 0.12740538018372408, 0.24249472650593012, 0.4345173669513564, 0.6256447408936548, 0.8664725621306946, 1.149091351673057, 1.4463983562538267, 1.786375371873631]\n"
     ]
    }
   ],
   "source": [
    "parameter_cs = []\n",
    "for b in np.linspace(0.5,5,10):\n",
    "    sample_avg_cs = []\n",
    "    for sample_sizes in np.array([200,500,1000,5000]):\n",
    "        cs = []\n",
    "        for seed in np.array([2,34,567,2021,0]):\n",
    "            rng = np.random.default_rng(seed=seed)\n",
    "            sample = rng.beta(2,b,sample_sizes) \n",
    "            cutoff = np.percentile(sample, 66.7) \n",
    "            test_sample = sample[sample > cutoff] \n",
    "            sd = np.std(test_sample) \n",
    "            c = (1-np.max(test_sample)) / sd \n",
    "            cs.append(c)\n",
    "        sample_avg_cs.append(np.average(cs))\n",
    "    parameter_cs.append(np.average(sample_avg_cs))\n",
    "print(parameter_cs)"
   ]
  },
  {
   "cell_type": "code",
   "execution_count": null,
   "metadata": {},
   "outputs": [],
   "source": []
  }
 ],
 "metadata": {
  "kernelspec": {
   "display_name": ".venv",
   "language": "python",
   "name": "python3"
  },
  "language_info": {
   "codemirror_mode": {
    "name": "ipython",
    "version": 3
   },
   "file_extension": ".py",
   "mimetype": "text/x-python",
   "name": "python",
   "nbconvert_exporter": "python",
   "pygments_lexer": "ipython3",
   "version": "3.9.13"
  }
 },
 "nbformat": 4,
 "nbformat_minor": 2
}
