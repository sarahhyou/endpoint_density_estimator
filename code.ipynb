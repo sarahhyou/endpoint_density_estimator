{
 "cells": [
  {
   "cell_type": "markdown",
   "metadata": {},
   "source": [
    "motive: We are attempting to use a constant-scaling method to perform endpoint estimations for beta and (possibly) gamma distributions. \n",
    "Basic steps are as follows:\n",
    "1. Simulate a bunch of points and take some upper proportion p (upper thirds, upper quartile, etc.)\n",
    "2. Calculate the standard deviation of the sample\n",
    "3. Figure out what constant $c * \\hat{\\sigma}$ added to the sample maximum would get close to 1\n",
    "4. Repeat 1-3 and obtain average of $c$ s.\n",
    "5. Test on different Beta distributions (and maybe Gamma distributions). Is there a general rule?"
   ]
  },
  {
   "cell_type": "code",
   "execution_count": 1,
   "metadata": {},
   "outputs": [],
   "source": [
    "#Import libraries here\n",
    "import numpy as np \n",
    "import scipy.stats as sc"
   ]
  },
  {
   "cell_type": "code",
   "execution_count": 2,
   "metadata": {},
   "outputs": [
    {
     "name": "stdout",
     "output_type": "stream",
     "text": [
      "1.4094303685479377\n"
     ]
    }
   ],
   "source": [
    "#Start with one instance of Beta(2,5) distribution\n",
    "rng = np.random.default_rng(seed=2024)\n",
    "sample = rng.beta(2,5,1000) #sample 1000 points from distribution\n",
    "cutoff = np.percentile(sample, 66.7) #find cutoff for top third\n",
    "test_sample = sample[sample > cutoff] #get top third\n",
    "sd = np.std(test_sample) #get standard deviation\n",
    "c = (1-np.max(test_sample)) / sd #get constant\n",
    "print(c)"
   ]
  },
  {
   "cell_type": "code",
   "execution_count": 3,
   "metadata": {},
   "outputs": [
    {
     "name": "stdout",
     "output_type": "stream",
     "text": [
      "1.4923027364652388\n"
     ]
    }
   ],
   "source": [
    "#Use different seeds (obtain different samples) to get average value of c\n",
    "cs = []\n",
    "for seed in [1356,1023,1748,489,1265,31,1776,888,1901,1437,619,1975,509,1342,745,1623,1288,1755,94,1389]:\n",
    "    rng = np.random.default_rng(seed)\n",
    "    sample = rng.beta(2,5,1000)\n",
    "    cutoff = np.percentile(sample, 66.7) \n",
    "    test_sample = sample[sample > cutoff]\n",
    "    sd = np.std(test_sample)\n",
    "    c = (1-np.max(test_sample)) / sd\n",
    "    cs.append(c)\n",
    "print(np.average(cs)) #1.5?"
   ]
  },
  {
   "cell_type": "code",
   "execution_count": 4,
   "metadata": {},
   "outputs": [
    {
     "name": "stdout",
     "output_type": "stream",
     "text": [
      "2.50212143430033\n",
      "2.3043426925835746\n",
      "2.033662707210796\n",
      "1.8216338777491488\n",
      "1.6590379454747983\n",
      "1.5263353050848971\n",
      "1.4080705812165621\n",
      "1.3101256252370712\n",
      "1.2128665765525808\n"
     ]
    }
   ],
   "source": [
    "#Test for variation in different sample sizes\n",
    "cs = []\n",
    "for size in [200,500,1000,5000,10000,20000,50000,int(1e5),int(1e6)]:\n",
    "    for seed in [1356,1023,1748,489,1265,31,1776,888,1901,1437,619,1975,509,1342,745,1623,1288,1755,94,1389]:\n",
    "        rng = np.random.default_rng(seed)\n",
    "        sample = rng.beta(2,5,size)\n",
    "        cutoff = np.percentile(sample, 66.7) \n",
    "        test_sample = sample[sample > cutoff]\n",
    "        sd = np.std(test_sample)\n",
    "        c = (1-np.max(test_sample)) / sd\n",
    "        cs.append(c)\n",
    "    print(np.average(cs)) #c changes for some reason, but overall decreasing trend (tends to 1)"
   ]
  },
  {
   "cell_type": "code",
   "execution_count": 5,
   "metadata": {},
   "outputs": [],
   "source": [
    "#Test for different alpha and beta parameters\n",
    "cs = []\n",
    "avg_cs = []\n",
    "c1s = []\n",
    "for a in [1,2,3,4,5,6,7,8,9,10]:\n",
    "    for b in [1,2,3,4,5,6,7,8,9,10]: #test for a variety of alphas and betas\n",
    "        for size in [200,500,1000,5000,10000,int(1e5),int(1e6)]:\n",
    "            for seed in [1356,1023,1748,489,1265,31,1776,888,1901,1437,619,1975,509,1342,745,1623,1288,1755,94,1389]:\n",
    "                rng = np.random.default_rng(seed)\n",
    "                sample = rng.beta(a,b,1000)\n",
    "                cutoff = np.percentile(sample, 66.7) \n",
    "                test_sample = sample[sample > cutoff]\n",
    "                sd = np.std(test_sample)\n",
    "                c = (1-np.max(test_sample)) / sd\n",
    "                cs.append(c)\n",
    "            avg_c = np.average(cs)\n",
    "            avg_cs.append(avg_c)\n",
    "        c1 = np.average(avg_cs)\n",
    "        c1s.append((a,b,c1))        "
   ]
  },
  {
   "cell_type": "code",
   "execution_count": 6,
   "metadata": {},
   "outputs": [
    {
     "data": {
      "application/vnd.plotly.v1+json": {
       "config": {
        "plotlyServerURL": "https://plot.ly"
       },
       "data": [
        {
         "marker": {
          "color": [
           0.008148001418372311,
           0.0420321320708098,
           0.10014731142005011,
           0.18446160800375483,
           0.2923261773026182,
           0.4189448227821324,
           0.5603918917626866,
           0.7139905534688321,
           0.8773903997508672,
           1.048977880181039,
           1.1915284977695628,
           1.2920945576163,
           1.3645757303914299,
           1.4188558575686365,
           1.4619197577348106,
           1.4991392664415915,
           1.5340563995401522,
           1.568970227158537,
           1.6056489034816774,
           1.6453771421270502,
           1.681036143430531,
           1.70857003337441,
           1.729871482415819,
           1.7466943011626446,
           1.7605422228615848,
           1.7727867598345168,
           1.7845052263256926,
           1.7965146347732137,
           1.8095222218905669,
           1.8241159966113885,
           1.8375240119208158,
           1.8479514925366267,
           1.8560159355558499,
           1.8623577970651315,
           1.8675511311725839,
           1.8721497023136542,
           1.8766075893761616,
           1.8812975570413872,
           1.8865599798954056,
           1.8926888496689376,
           1.8983102314370834,
           1.9024924569295556,
           1.9055166014252876,
           1.90770956752309,
           1.9093789330208655,
           1.9107911451061779,
           1.9121715378798065,
           1.9137391418262153,
           1.9156865225604964,
           1.9181837350899225,
           1.920427713908661,
           1.9218562373269406,
           1.922611831324428,
           1.9228690432989881,
           1.9228091555673317,
           1.922602611366336,
           1.9223993743834271,
           1.9223285299890482,
           1.9225129882859835,
           1.9230766961624184,
           1.923505877217006,
           1.9234306651454405,
           1.9229404801177787,
           1.9221512205613345,
           1.9211883679098622,
           1.9201691534593173,
           1.9191929578754023,
           1.9183427569555003,
           1.9177096132878995,
           1.9173792139279942,
           1.916977210663357,
           1.9162345091634414,
           1.9152144647874834,
           1.9139991549712976,
           1.9126742766966187,
           1.911322137954425,
           1.9100155770036396,
           1.9088134911761219,
           1.9077849882720486,
           1.9069982794906037,
           1.906172628430421,
           1.9051032094140545,
           1.9038357024864645,
           1.9024316015760367,
           1.9009546803738213,
           1.8994641530318837,
           1.8980133805269082,
           1.8966497846668615,
           1.8954317035659698,
           1.8944094988459255,
           1.8933639218942002,
           1.8921362844516234,
           1.8907609524116344,
           1.8892852021474562,
           1.8877583676260126,
           1.8862263633071588,
           1.8847312600279988,
           1.8833099248738867,
           1.882006710641375,
           1.8808606787849937
          ],
          "colorscale": [
           [
            0,
            "#440154"
           ],
           [
            0.1111111111111111,
            "#482878"
           ],
           [
            0.2222222222222222,
            "#3e4989"
           ],
           [
            0.3333333333333333,
            "#31688e"
           ],
           [
            0.4444444444444444,
            "#26828e"
           ],
           [
            0.5555555555555556,
            "#1f9e89"
           ],
           [
            0.6666666666666666,
            "#35b779"
           ],
           [
            0.7777777777777778,
            "#6ece58"
           ],
           [
            0.8888888888888888,
            "#b5de2b"
           ],
           [
            1,
            "#fde725"
           ]
          ],
          "opacity": 0.8,
          "size": 12
         },
         "mode": "markers",
         "type": "scatter3d",
         "x": [
          1,
          1,
          1,
          1,
          1,
          1,
          1,
          1,
          1,
          1,
          2,
          2,
          2,
          2,
          2,
          2,
          2,
          2,
          2,
          2,
          3,
          3,
          3,
          3,
          3,
          3,
          3,
          3,
          3,
          3,
          4,
          4,
          4,
          4,
          4,
          4,
          4,
          4,
          4,
          4,
          5,
          5,
          5,
          5,
          5,
          5,
          5,
          5,
          5,
          5,
          6,
          6,
          6,
          6,
          6,
          6,
          6,
          6,
          6,
          6,
          7,
          7,
          7,
          7,
          7,
          7,
          7,
          7,
          7,
          7,
          8,
          8,
          8,
          8,
          8,
          8,
          8,
          8,
          8,
          8,
          9,
          9,
          9,
          9,
          9,
          9,
          9,
          9,
          9,
          9,
          10,
          10,
          10,
          10,
          10,
          10,
          10,
          10,
          10,
          10
         ],
         "y": [
          1,
          2,
          3,
          4,
          5,
          6,
          7,
          8,
          9,
          10,
          1,
          2,
          3,
          4,
          5,
          6,
          7,
          8,
          9,
          10,
          1,
          2,
          3,
          4,
          5,
          6,
          7,
          8,
          9,
          10,
          1,
          2,
          3,
          4,
          5,
          6,
          7,
          8,
          9,
          10,
          1,
          2,
          3,
          4,
          5,
          6,
          7,
          8,
          9,
          10,
          1,
          2,
          3,
          4,
          5,
          6,
          7,
          8,
          9,
          10,
          1,
          2,
          3,
          4,
          5,
          6,
          7,
          8,
          9,
          10,
          1,
          2,
          3,
          4,
          5,
          6,
          7,
          8,
          9,
          10,
          1,
          2,
          3,
          4,
          5,
          6,
          7,
          8,
          9,
          10,
          1,
          2,
          3,
          4,
          5,
          6,
          7,
          8,
          9,
          10
         ],
         "z": [
          0.008148001418372311,
          0.0420321320708098,
          0.10014731142005011,
          0.18446160800375483,
          0.2923261773026182,
          0.4189448227821324,
          0.5603918917626866,
          0.7139905534688321,
          0.8773903997508672,
          1.048977880181039,
          1.1915284977695628,
          1.2920945576163,
          1.3645757303914299,
          1.4188558575686365,
          1.4619197577348106,
          1.4991392664415915,
          1.5340563995401522,
          1.568970227158537,
          1.6056489034816774,
          1.6453771421270502,
          1.681036143430531,
          1.70857003337441,
          1.729871482415819,
          1.7466943011626446,
          1.7605422228615848,
          1.7727867598345168,
          1.7845052263256926,
          1.7965146347732137,
          1.8095222218905669,
          1.8241159966113885,
          1.8375240119208158,
          1.8479514925366267,
          1.8560159355558499,
          1.8623577970651315,
          1.8675511311725839,
          1.8721497023136542,
          1.8766075893761616,
          1.8812975570413872,
          1.8865599798954056,
          1.8926888496689376,
          1.8983102314370834,
          1.9024924569295556,
          1.9055166014252876,
          1.90770956752309,
          1.9093789330208655,
          1.9107911451061779,
          1.9121715378798065,
          1.9137391418262153,
          1.9156865225604964,
          1.9181837350899225,
          1.920427713908661,
          1.9218562373269406,
          1.922611831324428,
          1.9228690432989881,
          1.9228091555673317,
          1.922602611366336,
          1.9223993743834271,
          1.9223285299890482,
          1.9225129882859835,
          1.9230766961624184,
          1.923505877217006,
          1.9234306651454405,
          1.9229404801177787,
          1.9221512205613345,
          1.9211883679098622,
          1.9201691534593173,
          1.9191929578754023,
          1.9183427569555003,
          1.9177096132878995,
          1.9173792139279942,
          1.916977210663357,
          1.9162345091634414,
          1.9152144647874834,
          1.9139991549712976,
          1.9126742766966187,
          1.911322137954425,
          1.9100155770036396,
          1.9088134911761219,
          1.9077849882720486,
          1.9069982794906037,
          1.906172628430421,
          1.9051032094140545,
          1.9038357024864645,
          1.9024316015760367,
          1.9009546803738213,
          1.8994641530318837,
          1.8980133805269082,
          1.8966497846668615,
          1.8954317035659698,
          1.8944094988459255,
          1.8933639218942002,
          1.8921362844516234,
          1.8907609524116344,
          1.8892852021474562,
          1.8877583676260126,
          1.8862263633071588,
          1.8847312600279988,
          1.8833099248738867,
          1.882006710641375,
          1.8808606787849937
         ]
        }
       ],
       "layout": {
        "template": {
         "data": {
          "bar": [
           {
            "error_x": {
             "color": "#2a3f5f"
            },
            "error_y": {
             "color": "#2a3f5f"
            },
            "marker": {
             "line": {
              "color": "#E5ECF6",
              "width": 0.5
             },
             "pattern": {
              "fillmode": "overlay",
              "size": 10,
              "solidity": 0.2
             }
            },
            "type": "bar"
           }
          ],
          "barpolar": [
           {
            "marker": {
             "line": {
              "color": "#E5ECF6",
              "width": 0.5
             },
             "pattern": {
              "fillmode": "overlay",
              "size": 10,
              "solidity": 0.2
             }
            },
            "type": "barpolar"
           }
          ],
          "carpet": [
           {
            "aaxis": {
             "endlinecolor": "#2a3f5f",
             "gridcolor": "white",
             "linecolor": "white",
             "minorgridcolor": "white",
             "startlinecolor": "#2a3f5f"
            },
            "baxis": {
             "endlinecolor": "#2a3f5f",
             "gridcolor": "white",
             "linecolor": "white",
             "minorgridcolor": "white",
             "startlinecolor": "#2a3f5f"
            },
            "type": "carpet"
           }
          ],
          "choropleth": [
           {
            "colorbar": {
             "outlinewidth": 0,
             "ticks": ""
            },
            "type": "choropleth"
           }
          ],
          "contour": [
           {
            "colorbar": {
             "outlinewidth": 0,
             "ticks": ""
            },
            "colorscale": [
             [
              0,
              "#0d0887"
             ],
             [
              0.1111111111111111,
              "#46039f"
             ],
             [
              0.2222222222222222,
              "#7201a8"
             ],
             [
              0.3333333333333333,
              "#9c179e"
             ],
             [
              0.4444444444444444,
              "#bd3786"
             ],
             [
              0.5555555555555556,
              "#d8576b"
             ],
             [
              0.6666666666666666,
              "#ed7953"
             ],
             [
              0.7777777777777778,
              "#fb9f3a"
             ],
             [
              0.8888888888888888,
              "#fdca26"
             ],
             [
              1,
              "#f0f921"
             ]
            ],
            "type": "contour"
           }
          ],
          "contourcarpet": [
           {
            "colorbar": {
             "outlinewidth": 0,
             "ticks": ""
            },
            "type": "contourcarpet"
           }
          ],
          "heatmap": [
           {
            "colorbar": {
             "outlinewidth": 0,
             "ticks": ""
            },
            "colorscale": [
             [
              0,
              "#0d0887"
             ],
             [
              0.1111111111111111,
              "#46039f"
             ],
             [
              0.2222222222222222,
              "#7201a8"
             ],
             [
              0.3333333333333333,
              "#9c179e"
             ],
             [
              0.4444444444444444,
              "#bd3786"
             ],
             [
              0.5555555555555556,
              "#d8576b"
             ],
             [
              0.6666666666666666,
              "#ed7953"
             ],
             [
              0.7777777777777778,
              "#fb9f3a"
             ],
             [
              0.8888888888888888,
              "#fdca26"
             ],
             [
              1,
              "#f0f921"
             ]
            ],
            "type": "heatmap"
           }
          ],
          "heatmapgl": [
           {
            "colorbar": {
             "outlinewidth": 0,
             "ticks": ""
            },
            "colorscale": [
             [
              0,
              "#0d0887"
             ],
             [
              0.1111111111111111,
              "#46039f"
             ],
             [
              0.2222222222222222,
              "#7201a8"
             ],
             [
              0.3333333333333333,
              "#9c179e"
             ],
             [
              0.4444444444444444,
              "#bd3786"
             ],
             [
              0.5555555555555556,
              "#d8576b"
             ],
             [
              0.6666666666666666,
              "#ed7953"
             ],
             [
              0.7777777777777778,
              "#fb9f3a"
             ],
             [
              0.8888888888888888,
              "#fdca26"
             ],
             [
              1,
              "#f0f921"
             ]
            ],
            "type": "heatmapgl"
           }
          ],
          "histogram": [
           {
            "marker": {
             "pattern": {
              "fillmode": "overlay",
              "size": 10,
              "solidity": 0.2
             }
            },
            "type": "histogram"
           }
          ],
          "histogram2d": [
           {
            "colorbar": {
             "outlinewidth": 0,
             "ticks": ""
            },
            "colorscale": [
             [
              0,
              "#0d0887"
             ],
             [
              0.1111111111111111,
              "#46039f"
             ],
             [
              0.2222222222222222,
              "#7201a8"
             ],
             [
              0.3333333333333333,
              "#9c179e"
             ],
             [
              0.4444444444444444,
              "#bd3786"
             ],
             [
              0.5555555555555556,
              "#d8576b"
             ],
             [
              0.6666666666666666,
              "#ed7953"
             ],
             [
              0.7777777777777778,
              "#fb9f3a"
             ],
             [
              0.8888888888888888,
              "#fdca26"
             ],
             [
              1,
              "#f0f921"
             ]
            ],
            "type": "histogram2d"
           }
          ],
          "histogram2dcontour": [
           {
            "colorbar": {
             "outlinewidth": 0,
             "ticks": ""
            },
            "colorscale": [
             [
              0,
              "#0d0887"
             ],
             [
              0.1111111111111111,
              "#46039f"
             ],
             [
              0.2222222222222222,
              "#7201a8"
             ],
             [
              0.3333333333333333,
              "#9c179e"
             ],
             [
              0.4444444444444444,
              "#bd3786"
             ],
             [
              0.5555555555555556,
              "#d8576b"
             ],
             [
              0.6666666666666666,
              "#ed7953"
             ],
             [
              0.7777777777777778,
              "#fb9f3a"
             ],
             [
              0.8888888888888888,
              "#fdca26"
             ],
             [
              1,
              "#f0f921"
             ]
            ],
            "type": "histogram2dcontour"
           }
          ],
          "mesh3d": [
           {
            "colorbar": {
             "outlinewidth": 0,
             "ticks": ""
            },
            "type": "mesh3d"
           }
          ],
          "parcoords": [
           {
            "line": {
             "colorbar": {
              "outlinewidth": 0,
              "ticks": ""
             }
            },
            "type": "parcoords"
           }
          ],
          "pie": [
           {
            "automargin": true,
            "type": "pie"
           }
          ],
          "scatter": [
           {
            "fillpattern": {
             "fillmode": "overlay",
             "size": 10,
             "solidity": 0.2
            },
            "type": "scatter"
           }
          ],
          "scatter3d": [
           {
            "line": {
             "colorbar": {
              "outlinewidth": 0,
              "ticks": ""
             }
            },
            "marker": {
             "colorbar": {
              "outlinewidth": 0,
              "ticks": ""
             }
            },
            "type": "scatter3d"
           }
          ],
          "scattercarpet": [
           {
            "marker": {
             "colorbar": {
              "outlinewidth": 0,
              "ticks": ""
             }
            },
            "type": "scattercarpet"
           }
          ],
          "scattergeo": [
           {
            "marker": {
             "colorbar": {
              "outlinewidth": 0,
              "ticks": ""
             }
            },
            "type": "scattergeo"
           }
          ],
          "scattergl": [
           {
            "marker": {
             "colorbar": {
              "outlinewidth": 0,
              "ticks": ""
             }
            },
            "type": "scattergl"
           }
          ],
          "scattermapbox": [
           {
            "marker": {
             "colorbar": {
              "outlinewidth": 0,
              "ticks": ""
             }
            },
            "type": "scattermapbox"
           }
          ],
          "scatterpolar": [
           {
            "marker": {
             "colorbar": {
              "outlinewidth": 0,
              "ticks": ""
             }
            },
            "type": "scatterpolar"
           }
          ],
          "scatterpolargl": [
           {
            "marker": {
             "colorbar": {
              "outlinewidth": 0,
              "ticks": ""
             }
            },
            "type": "scatterpolargl"
           }
          ],
          "scatterternary": [
           {
            "marker": {
             "colorbar": {
              "outlinewidth": 0,
              "ticks": ""
             }
            },
            "type": "scatterternary"
           }
          ],
          "surface": [
           {
            "colorbar": {
             "outlinewidth": 0,
             "ticks": ""
            },
            "colorscale": [
             [
              0,
              "#0d0887"
             ],
             [
              0.1111111111111111,
              "#46039f"
             ],
             [
              0.2222222222222222,
              "#7201a8"
             ],
             [
              0.3333333333333333,
              "#9c179e"
             ],
             [
              0.4444444444444444,
              "#bd3786"
             ],
             [
              0.5555555555555556,
              "#d8576b"
             ],
             [
              0.6666666666666666,
              "#ed7953"
             ],
             [
              0.7777777777777778,
              "#fb9f3a"
             ],
             [
              0.8888888888888888,
              "#fdca26"
             ],
             [
              1,
              "#f0f921"
             ]
            ],
            "type": "surface"
           }
          ],
          "table": [
           {
            "cells": {
             "fill": {
              "color": "#EBF0F8"
             },
             "line": {
              "color": "white"
             }
            },
            "header": {
             "fill": {
              "color": "#C8D4E3"
             },
             "line": {
              "color": "white"
             }
            },
            "type": "table"
           }
          ]
         },
         "layout": {
          "annotationdefaults": {
           "arrowcolor": "#2a3f5f",
           "arrowhead": 0,
           "arrowwidth": 1
          },
          "autotypenumbers": "strict",
          "coloraxis": {
           "colorbar": {
            "outlinewidth": 0,
            "ticks": ""
           }
          },
          "colorscale": {
           "diverging": [
            [
             0,
             "#8e0152"
            ],
            [
             0.1,
             "#c51b7d"
            ],
            [
             0.2,
             "#de77ae"
            ],
            [
             0.3,
             "#f1b6da"
            ],
            [
             0.4,
             "#fde0ef"
            ],
            [
             0.5,
             "#f7f7f7"
            ],
            [
             0.6,
             "#e6f5d0"
            ],
            [
             0.7,
             "#b8e186"
            ],
            [
             0.8,
             "#7fbc41"
            ],
            [
             0.9,
             "#4d9221"
            ],
            [
             1,
             "#276419"
            ]
           ],
           "sequential": [
            [
             0,
             "#0d0887"
            ],
            [
             0.1111111111111111,
             "#46039f"
            ],
            [
             0.2222222222222222,
             "#7201a8"
            ],
            [
             0.3333333333333333,
             "#9c179e"
            ],
            [
             0.4444444444444444,
             "#bd3786"
            ],
            [
             0.5555555555555556,
             "#d8576b"
            ],
            [
             0.6666666666666666,
             "#ed7953"
            ],
            [
             0.7777777777777778,
             "#fb9f3a"
            ],
            [
             0.8888888888888888,
             "#fdca26"
            ],
            [
             1,
             "#f0f921"
            ]
           ],
           "sequentialminus": [
            [
             0,
             "#0d0887"
            ],
            [
             0.1111111111111111,
             "#46039f"
            ],
            [
             0.2222222222222222,
             "#7201a8"
            ],
            [
             0.3333333333333333,
             "#9c179e"
            ],
            [
             0.4444444444444444,
             "#bd3786"
            ],
            [
             0.5555555555555556,
             "#d8576b"
            ],
            [
             0.6666666666666666,
             "#ed7953"
            ],
            [
             0.7777777777777778,
             "#fb9f3a"
            ],
            [
             0.8888888888888888,
             "#fdca26"
            ],
            [
             1,
             "#f0f921"
            ]
           ]
          },
          "colorway": [
           "#636efa",
           "#EF553B",
           "#00cc96",
           "#ab63fa",
           "#FFA15A",
           "#19d3f3",
           "#FF6692",
           "#B6E880",
           "#FF97FF",
           "#FECB52"
          ],
          "font": {
           "color": "#2a3f5f"
          },
          "geo": {
           "bgcolor": "white",
           "lakecolor": "white",
           "landcolor": "#E5ECF6",
           "showlakes": true,
           "showland": true,
           "subunitcolor": "white"
          },
          "hoverlabel": {
           "align": "left"
          },
          "hovermode": "closest",
          "mapbox": {
           "style": "light"
          },
          "paper_bgcolor": "white",
          "plot_bgcolor": "#E5ECF6",
          "polar": {
           "angularaxis": {
            "gridcolor": "white",
            "linecolor": "white",
            "ticks": ""
           },
           "bgcolor": "#E5ECF6",
           "radialaxis": {
            "gridcolor": "white",
            "linecolor": "white",
            "ticks": ""
           }
          },
          "scene": {
           "xaxis": {
            "backgroundcolor": "#E5ECF6",
            "gridcolor": "white",
            "gridwidth": 2,
            "linecolor": "white",
            "showbackground": true,
            "ticks": "",
            "zerolinecolor": "white"
           },
           "yaxis": {
            "backgroundcolor": "#E5ECF6",
            "gridcolor": "white",
            "gridwidth": 2,
            "linecolor": "white",
            "showbackground": true,
            "ticks": "",
            "zerolinecolor": "white"
           },
           "zaxis": {
            "backgroundcolor": "#E5ECF6",
            "gridcolor": "white",
            "gridwidth": 2,
            "linecolor": "white",
            "showbackground": true,
            "ticks": "",
            "zerolinecolor": "white"
           }
          },
          "shapedefaults": {
           "line": {
            "color": "#2a3f5f"
           }
          },
          "ternary": {
           "aaxis": {
            "gridcolor": "white",
            "linecolor": "white",
            "ticks": ""
           },
           "baxis": {
            "gridcolor": "white",
            "linecolor": "white",
            "ticks": ""
           },
           "bgcolor": "#E5ECF6",
           "caxis": {
            "gridcolor": "white",
            "linecolor": "white",
            "ticks": ""
           }
          },
          "title": {
           "x": 0.05
          },
          "xaxis": {
           "automargin": true,
           "gridcolor": "white",
           "linecolor": "white",
           "ticks": "",
           "title": {
            "standoff": 15
           },
           "zerolinecolor": "white",
           "zerolinewidth": 2
          },
          "yaxis": {
           "automargin": true,
           "gridcolor": "white",
           "linecolor": "white",
           "ticks": "",
           "title": {
            "standoff": 15
           },
           "zerolinecolor": "white",
           "zerolinewidth": 2
          }
         }
        }
       }
      }
     },
     "metadata": {},
     "output_type": "display_data"
    }
   ],
   "source": [
    "import plotly.graph_objects as go\n",
    "\n",
    "x, y, z = zip(*c1s)\n",
    "z = list(map(float, z))\n",
    "fig = go.Figure(data=[go.Scatter3d(x=x, y=y, z=z,\n",
    "                                   mode='markers', \n",
    "                                   marker=dict(\n",
    "                                   size=12,\n",
    "                                   color=z,                # set color to an array/list of desired values\n",
    "                                   colorscale='Viridis',   # choose a colorscale\n",
    "                                   opacity=0.8\n",
    "    ))])\n",
    "fig.show()"
   ]
  },
  {
   "cell_type": "code",
   "execution_count": 7,
   "metadata": {},
   "outputs": [],
   "source": [
    "#Adjust sample cutoff by skew\n",
    "cs = []\n",
    "avg_cs = []\n",
    "c2s = []\n",
    "for a in [1,2,3,4,5,6,7,8,9,10]:\n",
    "    for b in [1,2,3,4,5,6,7,8,9,10]: #test for a variety of alphas and betas\n",
    "        for size in [200,500,1000,5000,10000,int(1e5),int(1e6)]:\n",
    "            for seed in [1356,1023,1748,489,1265,31,1776,888,1901,1437,619,1975,509,1342,745,1623,1288,1755,94,1389]:\n",
    "                rng = np.random.default_rng(seed)\n",
    "                sample = rng.beta(a,b,1000)\n",
    "                cutoff = np.percentile(sample, 66.7+sc.skew(sample)*1.5)\n",
    "                test_sample = sample[sample > cutoff]\n",
    "                sd = np.std(test_sample)\n",
    "                c = (1-np.max(test_sample)) / sd\n",
    "                cs.append(c)\n",
    "            avg_c = np.average(cs)\n",
    "            avg_cs.append(avg_c)\n",
    "        c2 = np.average(avg_cs)\n",
    "        c2s.append((a,b,c2)) "
   ]
  },
  {
   "cell_type": "code",
   "execution_count": 9,
   "metadata": {},
   "outputs": [
    {
     "data": {
      "application/vnd.plotly.v1+json": {
       "config": {
        "plotlyServerURL": "https://plot.ly"
       },
       "data": [
        {
         "marker": {
          "color": [
           0.008147590990356827,
           0.0424665971207715,
           0.10132891585095163,
           0.1866856239130962,
           0.29579595570106715,
           0.42376885089804683,
           0.5666085779484878,
           0.7216112232648898,
           0.8864102635311276,
           1.0593762306365526,
           1.2030327632733109,
           1.3043569486271733,
           1.377362067976465,
           1.432016414304877,
           1.4753656926033663,
           1.5128266873184029,
           1.5479690704063955,
           1.583111280328749,
           1.620036979037058,
           1.6600404897644645,
           1.6959445186050655,
           1.7236578740390474,
           1.7450857513915918,
           1.761995151841235,
           1.775902108127156,
           1.7881894193239873,
           1.799943249768864,
           1.8119873881211113,
           1.825034727920567,
           1.8396778716906295,
           1.8531274416051235,
           1.8635760049063577,
           1.8716433251893776,
           1.8779731541106284,
           1.8831435441716975,
           1.887712180902056,
           1.8921366940433222,
           1.8967929304576245,
           1.902024124470259,
           1.9081266887411703,
           1.913719766829211,
           1.917865992641199,
           1.9208465583672016,
           1.9229892447514292,
           1.9246031144435078,
           1.9259562956038143,
           1.9272759063842662,
           1.9287827087080642,
           1.9306708186419954,
           1.9331115182622582,
           1.9352987884056554,
           1.9366676429051919,
           1.9373603754155218,
           1.937551793459143,
           1.9374238321728015,
           1.9371477503448675,
           1.9368743686161694,
           1.936733688921234,
           1.9368494626771187,
           1.9373463059317015,
           1.9377090772771137,
           1.9375664029135242,
           1.9370072988668545,
           1.9361476115120813,
           1.9351131292806203,
           1.9340215051258172,
           1.932972605214722,
           1.932050051168578,
           1.9313454539564605,
           1.930944892815523,
           1.9304734199114417,
           1.929661091236152,
           1.928570783682911,
           1.9272843618452813,
           1.9258876786152845,
           1.9244632675092432,
           1.92308427275485,
           1.9218100668207008,
           1.9207101927397467,
           1.9198531517380923,
           1.9189579626919706,
           1.9178192922653767,
           1.916482389970882,
           1.915008493344117,
           1.9134614179902412,
           1.9119005560973523,
           1.9103794577151194,
           1.9089458284645242,
           1.9076582439440921,
           1.9065673190214825,
           1.9054538232244793,
           1.9041587618140015,
           1.9027161179779815,
           1.9011729153949872,
           1.8995784915421603,
           1.8979788604628316,
           1.8964162373162723,
           1.894927707542024,
           1.8935577623454098,
           1.8923456482526635
          ],
          "colorscale": [
           [
            0,
            "#440154"
           ],
           [
            0.1111111111111111,
            "#482878"
           ],
           [
            0.2222222222222222,
            "#3e4989"
           ],
           [
            0.3333333333333333,
            "#31688e"
           ],
           [
            0.4444444444444444,
            "#26828e"
           ],
           [
            0.5555555555555556,
            "#1f9e89"
           ],
           [
            0.6666666666666666,
            "#35b779"
           ],
           [
            0.7777777777777778,
            "#6ece58"
           ],
           [
            0.8888888888888888,
            "#b5de2b"
           ],
           [
            1,
            "#fde725"
           ]
          ],
          "opacity": 0.8,
          "size": 12
         },
         "mode": "markers",
         "type": "scatter3d",
         "x": [
          1,
          1,
          1,
          1,
          1,
          1,
          1,
          1,
          1,
          1,
          2,
          2,
          2,
          2,
          2,
          2,
          2,
          2,
          2,
          2,
          3,
          3,
          3,
          3,
          3,
          3,
          3,
          3,
          3,
          3,
          4,
          4,
          4,
          4,
          4,
          4,
          4,
          4,
          4,
          4,
          5,
          5,
          5,
          5,
          5,
          5,
          5,
          5,
          5,
          5,
          6,
          6,
          6,
          6,
          6,
          6,
          6,
          6,
          6,
          6,
          7,
          7,
          7,
          7,
          7,
          7,
          7,
          7,
          7,
          7,
          8,
          8,
          8,
          8,
          8,
          8,
          8,
          8,
          8,
          8,
          9,
          9,
          9,
          9,
          9,
          9,
          9,
          9,
          9,
          9,
          10,
          10,
          10,
          10,
          10,
          10,
          10,
          10,
          10,
          10
         ],
         "y": [
          1,
          2,
          3,
          4,
          5,
          6,
          7,
          8,
          9,
          10,
          1,
          2,
          3,
          4,
          5,
          6,
          7,
          8,
          9,
          10,
          1,
          2,
          3,
          4,
          5,
          6,
          7,
          8,
          9,
          10,
          1,
          2,
          3,
          4,
          5,
          6,
          7,
          8,
          9,
          10,
          1,
          2,
          3,
          4,
          5,
          6,
          7,
          8,
          9,
          10,
          1,
          2,
          3,
          4,
          5,
          6,
          7,
          8,
          9,
          10,
          1,
          2,
          3,
          4,
          5,
          6,
          7,
          8,
          9,
          10,
          1,
          2,
          3,
          4,
          5,
          6,
          7,
          8,
          9,
          10,
          1,
          2,
          3,
          4,
          5,
          6,
          7,
          8,
          9,
          10,
          1,
          2,
          3,
          4,
          5,
          6,
          7,
          8,
          9,
          10
         ],
         "z": [
          0.008147590990356827,
          0.0424665971207715,
          0.10132891585095163,
          0.1866856239130962,
          0.29579595570106715,
          0.42376885089804683,
          0.5666085779484878,
          0.7216112232648898,
          0.8864102635311276,
          1.0593762306365526,
          1.2030327632733109,
          1.3043569486271733,
          1.377362067976465,
          1.432016414304877,
          1.4753656926033663,
          1.5128266873184029,
          1.5479690704063955,
          1.583111280328749,
          1.620036979037058,
          1.6600404897644645,
          1.6959445186050655,
          1.7236578740390474,
          1.7450857513915918,
          1.761995151841235,
          1.775902108127156,
          1.7881894193239873,
          1.799943249768864,
          1.8119873881211113,
          1.825034727920567,
          1.8396778716906295,
          1.8531274416051235,
          1.8635760049063577,
          1.8716433251893776,
          1.8779731541106284,
          1.8831435441716975,
          1.887712180902056,
          1.8921366940433222,
          1.8967929304576245,
          1.902024124470259,
          1.9081266887411703,
          1.913719766829211,
          1.917865992641199,
          1.9208465583672016,
          1.9229892447514292,
          1.9246031144435078,
          1.9259562956038143,
          1.9272759063842662,
          1.9287827087080642,
          1.9306708186419954,
          1.9331115182622582,
          1.9352987884056554,
          1.9366676429051919,
          1.9373603754155218,
          1.937551793459143,
          1.9374238321728015,
          1.9371477503448675,
          1.9368743686161694,
          1.936733688921234,
          1.9368494626771187,
          1.9373463059317015,
          1.9377090772771137,
          1.9375664029135242,
          1.9370072988668545,
          1.9361476115120813,
          1.9351131292806203,
          1.9340215051258172,
          1.932972605214722,
          1.932050051168578,
          1.9313454539564605,
          1.930944892815523,
          1.9304734199114417,
          1.929661091236152,
          1.928570783682911,
          1.9272843618452813,
          1.9258876786152845,
          1.9244632675092432,
          1.92308427275485,
          1.9218100668207008,
          1.9207101927397467,
          1.9198531517380923,
          1.9189579626919706,
          1.9178192922653767,
          1.916482389970882,
          1.915008493344117,
          1.9134614179902412,
          1.9119005560973523,
          1.9103794577151194,
          1.9089458284645242,
          1.9076582439440921,
          1.9065673190214825,
          1.9054538232244793,
          1.9041587618140015,
          1.9027161179779815,
          1.9011729153949872,
          1.8995784915421603,
          1.8979788604628316,
          1.8964162373162723,
          1.894927707542024,
          1.8935577623454098,
          1.8923456482526635
         ]
        }
       ],
       "layout": {
        "margin": {
         "b": 10,
         "l": 10,
         "r": 20,
         "t": 10
        },
        "scene": {
         "xaxis": {
          "title": {
           "text": "alpha"
          }
         },
         "yaxis": {
          "title": {
           "text": "beta"
          }
         },
         "zaxis": {
          "title": {
           "text": "scaling constant"
          }
         }
        },
        "template": {
         "data": {
          "bar": [
           {
            "error_x": {
             "color": "#2a3f5f"
            },
            "error_y": {
             "color": "#2a3f5f"
            },
            "marker": {
             "line": {
              "color": "#E5ECF6",
              "width": 0.5
             },
             "pattern": {
              "fillmode": "overlay",
              "size": 10,
              "solidity": 0.2
             }
            },
            "type": "bar"
           }
          ],
          "barpolar": [
           {
            "marker": {
             "line": {
              "color": "#E5ECF6",
              "width": 0.5
             },
             "pattern": {
              "fillmode": "overlay",
              "size": 10,
              "solidity": 0.2
             }
            },
            "type": "barpolar"
           }
          ],
          "carpet": [
           {
            "aaxis": {
             "endlinecolor": "#2a3f5f",
             "gridcolor": "white",
             "linecolor": "white",
             "minorgridcolor": "white",
             "startlinecolor": "#2a3f5f"
            },
            "baxis": {
             "endlinecolor": "#2a3f5f",
             "gridcolor": "white",
             "linecolor": "white",
             "minorgridcolor": "white",
             "startlinecolor": "#2a3f5f"
            },
            "type": "carpet"
           }
          ],
          "choropleth": [
           {
            "colorbar": {
             "outlinewidth": 0,
             "ticks": ""
            },
            "type": "choropleth"
           }
          ],
          "contour": [
           {
            "colorbar": {
             "outlinewidth": 0,
             "ticks": ""
            },
            "colorscale": [
             [
              0,
              "#0d0887"
             ],
             [
              0.1111111111111111,
              "#46039f"
             ],
             [
              0.2222222222222222,
              "#7201a8"
             ],
             [
              0.3333333333333333,
              "#9c179e"
             ],
             [
              0.4444444444444444,
              "#bd3786"
             ],
             [
              0.5555555555555556,
              "#d8576b"
             ],
             [
              0.6666666666666666,
              "#ed7953"
             ],
             [
              0.7777777777777778,
              "#fb9f3a"
             ],
             [
              0.8888888888888888,
              "#fdca26"
             ],
             [
              1,
              "#f0f921"
             ]
            ],
            "type": "contour"
           }
          ],
          "contourcarpet": [
           {
            "colorbar": {
             "outlinewidth": 0,
             "ticks": ""
            },
            "type": "contourcarpet"
           }
          ],
          "heatmap": [
           {
            "colorbar": {
             "outlinewidth": 0,
             "ticks": ""
            },
            "colorscale": [
             [
              0,
              "#0d0887"
             ],
             [
              0.1111111111111111,
              "#46039f"
             ],
             [
              0.2222222222222222,
              "#7201a8"
             ],
             [
              0.3333333333333333,
              "#9c179e"
             ],
             [
              0.4444444444444444,
              "#bd3786"
             ],
             [
              0.5555555555555556,
              "#d8576b"
             ],
             [
              0.6666666666666666,
              "#ed7953"
             ],
             [
              0.7777777777777778,
              "#fb9f3a"
             ],
             [
              0.8888888888888888,
              "#fdca26"
             ],
             [
              1,
              "#f0f921"
             ]
            ],
            "type": "heatmap"
           }
          ],
          "heatmapgl": [
           {
            "colorbar": {
             "outlinewidth": 0,
             "ticks": ""
            },
            "colorscale": [
             [
              0,
              "#0d0887"
             ],
             [
              0.1111111111111111,
              "#46039f"
             ],
             [
              0.2222222222222222,
              "#7201a8"
             ],
             [
              0.3333333333333333,
              "#9c179e"
             ],
             [
              0.4444444444444444,
              "#bd3786"
             ],
             [
              0.5555555555555556,
              "#d8576b"
             ],
             [
              0.6666666666666666,
              "#ed7953"
             ],
             [
              0.7777777777777778,
              "#fb9f3a"
             ],
             [
              0.8888888888888888,
              "#fdca26"
             ],
             [
              1,
              "#f0f921"
             ]
            ],
            "type": "heatmapgl"
           }
          ],
          "histogram": [
           {
            "marker": {
             "pattern": {
              "fillmode": "overlay",
              "size": 10,
              "solidity": 0.2
             }
            },
            "type": "histogram"
           }
          ],
          "histogram2d": [
           {
            "colorbar": {
             "outlinewidth": 0,
             "ticks": ""
            },
            "colorscale": [
             [
              0,
              "#0d0887"
             ],
             [
              0.1111111111111111,
              "#46039f"
             ],
             [
              0.2222222222222222,
              "#7201a8"
             ],
             [
              0.3333333333333333,
              "#9c179e"
             ],
             [
              0.4444444444444444,
              "#bd3786"
             ],
             [
              0.5555555555555556,
              "#d8576b"
             ],
             [
              0.6666666666666666,
              "#ed7953"
             ],
             [
              0.7777777777777778,
              "#fb9f3a"
             ],
             [
              0.8888888888888888,
              "#fdca26"
             ],
             [
              1,
              "#f0f921"
             ]
            ],
            "type": "histogram2d"
           }
          ],
          "histogram2dcontour": [
           {
            "colorbar": {
             "outlinewidth": 0,
             "ticks": ""
            },
            "colorscale": [
             [
              0,
              "#0d0887"
             ],
             [
              0.1111111111111111,
              "#46039f"
             ],
             [
              0.2222222222222222,
              "#7201a8"
             ],
             [
              0.3333333333333333,
              "#9c179e"
             ],
             [
              0.4444444444444444,
              "#bd3786"
             ],
             [
              0.5555555555555556,
              "#d8576b"
             ],
             [
              0.6666666666666666,
              "#ed7953"
             ],
             [
              0.7777777777777778,
              "#fb9f3a"
             ],
             [
              0.8888888888888888,
              "#fdca26"
             ],
             [
              1,
              "#f0f921"
             ]
            ],
            "type": "histogram2dcontour"
           }
          ],
          "mesh3d": [
           {
            "colorbar": {
             "outlinewidth": 0,
             "ticks": ""
            },
            "type": "mesh3d"
           }
          ],
          "parcoords": [
           {
            "line": {
             "colorbar": {
              "outlinewidth": 0,
              "ticks": ""
             }
            },
            "type": "parcoords"
           }
          ],
          "pie": [
           {
            "automargin": true,
            "type": "pie"
           }
          ],
          "scatter": [
           {
            "fillpattern": {
             "fillmode": "overlay",
             "size": 10,
             "solidity": 0.2
            },
            "type": "scatter"
           }
          ],
          "scatter3d": [
           {
            "line": {
             "colorbar": {
              "outlinewidth": 0,
              "ticks": ""
             }
            },
            "marker": {
             "colorbar": {
              "outlinewidth": 0,
              "ticks": ""
             }
            },
            "type": "scatter3d"
           }
          ],
          "scattercarpet": [
           {
            "marker": {
             "colorbar": {
              "outlinewidth": 0,
              "ticks": ""
             }
            },
            "type": "scattercarpet"
           }
          ],
          "scattergeo": [
           {
            "marker": {
             "colorbar": {
              "outlinewidth": 0,
              "ticks": ""
             }
            },
            "type": "scattergeo"
           }
          ],
          "scattergl": [
           {
            "marker": {
             "colorbar": {
              "outlinewidth": 0,
              "ticks": ""
             }
            },
            "type": "scattergl"
           }
          ],
          "scattermapbox": [
           {
            "marker": {
             "colorbar": {
              "outlinewidth": 0,
              "ticks": ""
             }
            },
            "type": "scattermapbox"
           }
          ],
          "scatterpolar": [
           {
            "marker": {
             "colorbar": {
              "outlinewidth": 0,
              "ticks": ""
             }
            },
            "type": "scatterpolar"
           }
          ],
          "scatterpolargl": [
           {
            "marker": {
             "colorbar": {
              "outlinewidth": 0,
              "ticks": ""
             }
            },
            "type": "scatterpolargl"
           }
          ],
          "scatterternary": [
           {
            "marker": {
             "colorbar": {
              "outlinewidth": 0,
              "ticks": ""
             }
            },
            "type": "scatterternary"
           }
          ],
          "surface": [
           {
            "colorbar": {
             "outlinewidth": 0,
             "ticks": ""
            },
            "colorscale": [
             [
              0,
              "#0d0887"
             ],
             [
              0.1111111111111111,
              "#46039f"
             ],
             [
              0.2222222222222222,
              "#7201a8"
             ],
             [
              0.3333333333333333,
              "#9c179e"
             ],
             [
              0.4444444444444444,
              "#bd3786"
             ],
             [
              0.5555555555555556,
              "#d8576b"
             ],
             [
              0.6666666666666666,
              "#ed7953"
             ],
             [
              0.7777777777777778,
              "#fb9f3a"
             ],
             [
              0.8888888888888888,
              "#fdca26"
             ],
             [
              1,
              "#f0f921"
             ]
            ],
            "type": "surface"
           }
          ],
          "table": [
           {
            "cells": {
             "fill": {
              "color": "#EBF0F8"
             },
             "line": {
              "color": "white"
             }
            },
            "header": {
             "fill": {
              "color": "#C8D4E3"
             },
             "line": {
              "color": "white"
             }
            },
            "type": "table"
           }
          ]
         },
         "layout": {
          "annotationdefaults": {
           "arrowcolor": "#2a3f5f",
           "arrowhead": 0,
           "arrowwidth": 1
          },
          "autotypenumbers": "strict",
          "coloraxis": {
           "colorbar": {
            "outlinewidth": 0,
            "ticks": ""
           }
          },
          "colorscale": {
           "diverging": [
            [
             0,
             "#8e0152"
            ],
            [
             0.1,
             "#c51b7d"
            ],
            [
             0.2,
             "#de77ae"
            ],
            [
             0.3,
             "#f1b6da"
            ],
            [
             0.4,
             "#fde0ef"
            ],
            [
             0.5,
             "#f7f7f7"
            ],
            [
             0.6,
             "#e6f5d0"
            ],
            [
             0.7,
             "#b8e186"
            ],
            [
             0.8,
             "#7fbc41"
            ],
            [
             0.9,
             "#4d9221"
            ],
            [
             1,
             "#276419"
            ]
           ],
           "sequential": [
            [
             0,
             "#0d0887"
            ],
            [
             0.1111111111111111,
             "#46039f"
            ],
            [
             0.2222222222222222,
             "#7201a8"
            ],
            [
             0.3333333333333333,
             "#9c179e"
            ],
            [
             0.4444444444444444,
             "#bd3786"
            ],
            [
             0.5555555555555556,
             "#d8576b"
            ],
            [
             0.6666666666666666,
             "#ed7953"
            ],
            [
             0.7777777777777778,
             "#fb9f3a"
            ],
            [
             0.8888888888888888,
             "#fdca26"
            ],
            [
             1,
             "#f0f921"
            ]
           ],
           "sequentialminus": [
            [
             0,
             "#0d0887"
            ],
            [
             0.1111111111111111,
             "#46039f"
            ],
            [
             0.2222222222222222,
             "#7201a8"
            ],
            [
             0.3333333333333333,
             "#9c179e"
            ],
            [
             0.4444444444444444,
             "#bd3786"
            ],
            [
             0.5555555555555556,
             "#d8576b"
            ],
            [
             0.6666666666666666,
             "#ed7953"
            ],
            [
             0.7777777777777778,
             "#fb9f3a"
            ],
            [
             0.8888888888888888,
             "#fdca26"
            ],
            [
             1,
             "#f0f921"
            ]
           ]
          },
          "colorway": [
           "#636efa",
           "#EF553B",
           "#00cc96",
           "#ab63fa",
           "#FFA15A",
           "#19d3f3",
           "#FF6692",
           "#B6E880",
           "#FF97FF",
           "#FECB52"
          ],
          "font": {
           "color": "#2a3f5f"
          },
          "geo": {
           "bgcolor": "white",
           "lakecolor": "white",
           "landcolor": "#E5ECF6",
           "showlakes": true,
           "showland": true,
           "subunitcolor": "white"
          },
          "hoverlabel": {
           "align": "left"
          },
          "hovermode": "closest",
          "mapbox": {
           "style": "light"
          },
          "paper_bgcolor": "white",
          "plot_bgcolor": "#E5ECF6",
          "polar": {
           "angularaxis": {
            "gridcolor": "white",
            "linecolor": "white",
            "ticks": ""
           },
           "bgcolor": "#E5ECF6",
           "radialaxis": {
            "gridcolor": "white",
            "linecolor": "white",
            "ticks": ""
           }
          },
          "scene": {
           "xaxis": {
            "backgroundcolor": "#E5ECF6",
            "gridcolor": "white",
            "gridwidth": 2,
            "linecolor": "white",
            "showbackground": true,
            "ticks": "",
            "zerolinecolor": "white"
           },
           "yaxis": {
            "backgroundcolor": "#E5ECF6",
            "gridcolor": "white",
            "gridwidth": 2,
            "linecolor": "white",
            "showbackground": true,
            "ticks": "",
            "zerolinecolor": "white"
           },
           "zaxis": {
            "backgroundcolor": "#E5ECF6",
            "gridcolor": "white",
            "gridwidth": 2,
            "linecolor": "white",
            "showbackground": true,
            "ticks": "",
            "zerolinecolor": "white"
           }
          },
          "shapedefaults": {
           "line": {
            "color": "#2a3f5f"
           }
          },
          "ternary": {
           "aaxis": {
            "gridcolor": "white",
            "linecolor": "white",
            "ticks": ""
           },
           "baxis": {
            "gridcolor": "white",
            "linecolor": "white",
            "ticks": ""
           },
           "bgcolor": "#E5ECF6",
           "caxis": {
            "gridcolor": "white",
            "linecolor": "white",
            "ticks": ""
           }
          },
          "title": {
           "x": 0.05
          },
          "xaxis": {
           "automargin": true,
           "gridcolor": "white",
           "linecolor": "white",
           "ticks": "",
           "title": {
            "standoff": 15
           },
           "zerolinecolor": "white",
           "zerolinewidth": 2
          },
          "yaxis": {
           "automargin": true,
           "gridcolor": "white",
           "linecolor": "white",
           "ticks": "",
           "title": {
            "standoff": 15
           },
           "zerolinecolor": "white",
           "zerolinewidth": 2
          }
         }
        }
       }
      }
     },
     "metadata": {},
     "output_type": "display_data"
    },
    {
     "data": {
      "application/vnd.plotly.v1+json": {
       "config": {
        "plotlyServerURL": "https://plot.ly"
       },
       "data": [
        {
         "color": "rgba(244,22,100,0.6)",
         "type": "mesh3d",
         "x": [
          1,
          1,
          1,
          1,
          1,
          1,
          1,
          1,
          1,
          1,
          2,
          2,
          2,
          2,
          2,
          2,
          2,
          2,
          2,
          2,
          3,
          3,
          3,
          3,
          3,
          3,
          3,
          3,
          3,
          3,
          4,
          4,
          4,
          4,
          4,
          4,
          4,
          4,
          4,
          4,
          5,
          5,
          5,
          5,
          5,
          5,
          5,
          5,
          5,
          5,
          6,
          6,
          6,
          6,
          6,
          6,
          6,
          6,
          6,
          6,
          7,
          7,
          7,
          7,
          7,
          7,
          7,
          7,
          7,
          7,
          8,
          8,
          8,
          8,
          8,
          8,
          8,
          8,
          8,
          8,
          9,
          9,
          9,
          9,
          9,
          9,
          9,
          9,
          9,
          9,
          10,
          10,
          10,
          10,
          10,
          10,
          10,
          10,
          10,
          10
         ],
         "y": [
          1,
          2,
          3,
          4,
          5,
          6,
          7,
          8,
          9,
          10,
          1,
          2,
          3,
          4,
          5,
          6,
          7,
          8,
          9,
          10,
          1,
          2,
          3,
          4,
          5,
          6,
          7,
          8,
          9,
          10,
          1,
          2,
          3,
          4,
          5,
          6,
          7,
          8,
          9,
          10,
          1,
          2,
          3,
          4,
          5,
          6,
          7,
          8,
          9,
          10,
          1,
          2,
          3,
          4,
          5,
          6,
          7,
          8,
          9,
          10,
          1,
          2,
          3,
          4,
          5,
          6,
          7,
          8,
          9,
          10,
          1,
          2,
          3,
          4,
          5,
          6,
          7,
          8,
          9,
          10,
          1,
          2,
          3,
          4,
          5,
          6,
          7,
          8,
          9,
          10,
          1,
          2,
          3,
          4,
          5,
          6,
          7,
          8,
          9,
          10
         ],
         "z": [
          0.008147590990356827,
          0.0424665971207715,
          0.10132891585095163,
          0.1866856239130962,
          0.29579595570106715,
          0.42376885089804683,
          0.5666085779484878,
          0.7216112232648898,
          0.8864102635311276,
          1.0593762306365526,
          1.2030327632733109,
          1.3043569486271733,
          1.377362067976465,
          1.432016414304877,
          1.4753656926033663,
          1.5128266873184029,
          1.5479690704063955,
          1.583111280328749,
          1.620036979037058,
          1.6600404897644645,
          1.6959445186050655,
          1.7236578740390474,
          1.7450857513915918,
          1.761995151841235,
          1.775902108127156,
          1.7881894193239873,
          1.799943249768864,
          1.8119873881211113,
          1.825034727920567,
          1.8396778716906295,
          1.8531274416051235,
          1.8635760049063577,
          1.8716433251893776,
          1.8779731541106284,
          1.8831435441716975,
          1.887712180902056,
          1.8921366940433222,
          1.8967929304576245,
          1.902024124470259,
          1.9081266887411703,
          1.913719766829211,
          1.917865992641199,
          1.9208465583672016,
          1.9229892447514292,
          1.9246031144435078,
          1.9259562956038143,
          1.9272759063842662,
          1.9287827087080642,
          1.9306708186419954,
          1.9331115182622582,
          1.9352987884056554,
          1.9366676429051919,
          1.9373603754155218,
          1.937551793459143,
          1.9374238321728015,
          1.9371477503448675,
          1.9368743686161694,
          1.936733688921234,
          1.9368494626771187,
          1.9373463059317015,
          1.9377090772771137,
          1.9375664029135242,
          1.9370072988668545,
          1.9361476115120813,
          1.9351131292806203,
          1.9340215051258172,
          1.932972605214722,
          1.932050051168578,
          1.9313454539564605,
          1.930944892815523,
          1.9304734199114417,
          1.929661091236152,
          1.928570783682911,
          1.9272843618452813,
          1.9258876786152845,
          1.9244632675092432,
          1.92308427275485,
          1.9218100668207008,
          1.9207101927397467,
          1.9198531517380923,
          1.9189579626919706,
          1.9178192922653767,
          1.916482389970882,
          1.915008493344117,
          1.9134614179902412,
          1.9119005560973523,
          1.9103794577151194,
          1.9089458284645242,
          1.9076582439440921,
          1.9065673190214825,
          1.9054538232244793,
          1.9041587618140015,
          1.9027161179779815,
          1.9011729153949872,
          1.8995784915421603,
          1.8979788604628316,
          1.8964162373162723,
          1.894927707542024,
          1.8935577623454098,
          1.8923456482526635
         ]
        }
       ],
       "layout": {
        "margin": {
         "b": 10,
         "l": 10,
         "r": 20,
         "t": 10
        },
        "scene": {
         "xaxis": {
          "title": {
           "text": "alpha"
          }
         },
         "yaxis": {
          "title": {
           "text": "beta"
          }
         },
         "zaxis": {
          "title": {
           "text": "scaling constant"
          }
         }
        },
        "template": {
         "data": {
          "bar": [
           {
            "error_x": {
             "color": "#2a3f5f"
            },
            "error_y": {
             "color": "#2a3f5f"
            },
            "marker": {
             "line": {
              "color": "#E5ECF6",
              "width": 0.5
             },
             "pattern": {
              "fillmode": "overlay",
              "size": 10,
              "solidity": 0.2
             }
            },
            "type": "bar"
           }
          ],
          "barpolar": [
           {
            "marker": {
             "line": {
              "color": "#E5ECF6",
              "width": 0.5
             },
             "pattern": {
              "fillmode": "overlay",
              "size": 10,
              "solidity": 0.2
             }
            },
            "type": "barpolar"
           }
          ],
          "carpet": [
           {
            "aaxis": {
             "endlinecolor": "#2a3f5f",
             "gridcolor": "white",
             "linecolor": "white",
             "minorgridcolor": "white",
             "startlinecolor": "#2a3f5f"
            },
            "baxis": {
             "endlinecolor": "#2a3f5f",
             "gridcolor": "white",
             "linecolor": "white",
             "minorgridcolor": "white",
             "startlinecolor": "#2a3f5f"
            },
            "type": "carpet"
           }
          ],
          "choropleth": [
           {
            "colorbar": {
             "outlinewidth": 0,
             "ticks": ""
            },
            "type": "choropleth"
           }
          ],
          "contour": [
           {
            "colorbar": {
             "outlinewidth": 0,
             "ticks": ""
            },
            "colorscale": [
             [
              0,
              "#0d0887"
             ],
             [
              0.1111111111111111,
              "#46039f"
             ],
             [
              0.2222222222222222,
              "#7201a8"
             ],
             [
              0.3333333333333333,
              "#9c179e"
             ],
             [
              0.4444444444444444,
              "#bd3786"
             ],
             [
              0.5555555555555556,
              "#d8576b"
             ],
             [
              0.6666666666666666,
              "#ed7953"
             ],
             [
              0.7777777777777778,
              "#fb9f3a"
             ],
             [
              0.8888888888888888,
              "#fdca26"
             ],
             [
              1,
              "#f0f921"
             ]
            ],
            "type": "contour"
           }
          ],
          "contourcarpet": [
           {
            "colorbar": {
             "outlinewidth": 0,
             "ticks": ""
            },
            "type": "contourcarpet"
           }
          ],
          "heatmap": [
           {
            "colorbar": {
             "outlinewidth": 0,
             "ticks": ""
            },
            "colorscale": [
             [
              0,
              "#0d0887"
             ],
             [
              0.1111111111111111,
              "#46039f"
             ],
             [
              0.2222222222222222,
              "#7201a8"
             ],
             [
              0.3333333333333333,
              "#9c179e"
             ],
             [
              0.4444444444444444,
              "#bd3786"
             ],
             [
              0.5555555555555556,
              "#d8576b"
             ],
             [
              0.6666666666666666,
              "#ed7953"
             ],
             [
              0.7777777777777778,
              "#fb9f3a"
             ],
             [
              0.8888888888888888,
              "#fdca26"
             ],
             [
              1,
              "#f0f921"
             ]
            ],
            "type": "heatmap"
           }
          ],
          "heatmapgl": [
           {
            "colorbar": {
             "outlinewidth": 0,
             "ticks": ""
            },
            "colorscale": [
             [
              0,
              "#0d0887"
             ],
             [
              0.1111111111111111,
              "#46039f"
             ],
             [
              0.2222222222222222,
              "#7201a8"
             ],
             [
              0.3333333333333333,
              "#9c179e"
             ],
             [
              0.4444444444444444,
              "#bd3786"
             ],
             [
              0.5555555555555556,
              "#d8576b"
             ],
             [
              0.6666666666666666,
              "#ed7953"
             ],
             [
              0.7777777777777778,
              "#fb9f3a"
             ],
             [
              0.8888888888888888,
              "#fdca26"
             ],
             [
              1,
              "#f0f921"
             ]
            ],
            "type": "heatmapgl"
           }
          ],
          "histogram": [
           {
            "marker": {
             "pattern": {
              "fillmode": "overlay",
              "size": 10,
              "solidity": 0.2
             }
            },
            "type": "histogram"
           }
          ],
          "histogram2d": [
           {
            "colorbar": {
             "outlinewidth": 0,
             "ticks": ""
            },
            "colorscale": [
             [
              0,
              "#0d0887"
             ],
             [
              0.1111111111111111,
              "#46039f"
             ],
             [
              0.2222222222222222,
              "#7201a8"
             ],
             [
              0.3333333333333333,
              "#9c179e"
             ],
             [
              0.4444444444444444,
              "#bd3786"
             ],
             [
              0.5555555555555556,
              "#d8576b"
             ],
             [
              0.6666666666666666,
              "#ed7953"
             ],
             [
              0.7777777777777778,
              "#fb9f3a"
             ],
             [
              0.8888888888888888,
              "#fdca26"
             ],
             [
              1,
              "#f0f921"
             ]
            ],
            "type": "histogram2d"
           }
          ],
          "histogram2dcontour": [
           {
            "colorbar": {
             "outlinewidth": 0,
             "ticks": ""
            },
            "colorscale": [
             [
              0,
              "#0d0887"
             ],
             [
              0.1111111111111111,
              "#46039f"
             ],
             [
              0.2222222222222222,
              "#7201a8"
             ],
             [
              0.3333333333333333,
              "#9c179e"
             ],
             [
              0.4444444444444444,
              "#bd3786"
             ],
             [
              0.5555555555555556,
              "#d8576b"
             ],
             [
              0.6666666666666666,
              "#ed7953"
             ],
             [
              0.7777777777777778,
              "#fb9f3a"
             ],
             [
              0.8888888888888888,
              "#fdca26"
             ],
             [
              1,
              "#f0f921"
             ]
            ],
            "type": "histogram2dcontour"
           }
          ],
          "mesh3d": [
           {
            "colorbar": {
             "outlinewidth": 0,
             "ticks": ""
            },
            "type": "mesh3d"
           }
          ],
          "parcoords": [
           {
            "line": {
             "colorbar": {
              "outlinewidth": 0,
              "ticks": ""
             }
            },
            "type": "parcoords"
           }
          ],
          "pie": [
           {
            "automargin": true,
            "type": "pie"
           }
          ],
          "scatter": [
           {
            "fillpattern": {
             "fillmode": "overlay",
             "size": 10,
             "solidity": 0.2
            },
            "type": "scatter"
           }
          ],
          "scatter3d": [
           {
            "line": {
             "colorbar": {
              "outlinewidth": 0,
              "ticks": ""
             }
            },
            "marker": {
             "colorbar": {
              "outlinewidth": 0,
              "ticks": ""
             }
            },
            "type": "scatter3d"
           }
          ],
          "scattercarpet": [
           {
            "marker": {
             "colorbar": {
              "outlinewidth": 0,
              "ticks": ""
             }
            },
            "type": "scattercarpet"
           }
          ],
          "scattergeo": [
           {
            "marker": {
             "colorbar": {
              "outlinewidth": 0,
              "ticks": ""
             }
            },
            "type": "scattergeo"
           }
          ],
          "scattergl": [
           {
            "marker": {
             "colorbar": {
              "outlinewidth": 0,
              "ticks": ""
             }
            },
            "type": "scattergl"
           }
          ],
          "scattermapbox": [
           {
            "marker": {
             "colorbar": {
              "outlinewidth": 0,
              "ticks": ""
             }
            },
            "type": "scattermapbox"
           }
          ],
          "scatterpolar": [
           {
            "marker": {
             "colorbar": {
              "outlinewidth": 0,
              "ticks": ""
             }
            },
            "type": "scatterpolar"
           }
          ],
          "scatterpolargl": [
           {
            "marker": {
             "colorbar": {
              "outlinewidth": 0,
              "ticks": ""
             }
            },
            "type": "scatterpolargl"
           }
          ],
          "scatterternary": [
           {
            "marker": {
             "colorbar": {
              "outlinewidth": 0,
              "ticks": ""
             }
            },
            "type": "scatterternary"
           }
          ],
          "surface": [
           {
            "colorbar": {
             "outlinewidth": 0,
             "ticks": ""
            },
            "colorscale": [
             [
              0,
              "#0d0887"
             ],
             [
              0.1111111111111111,
              "#46039f"
             ],
             [
              0.2222222222222222,
              "#7201a8"
             ],
             [
              0.3333333333333333,
              "#9c179e"
             ],
             [
              0.4444444444444444,
              "#bd3786"
             ],
             [
              0.5555555555555556,
              "#d8576b"
             ],
             [
              0.6666666666666666,
              "#ed7953"
             ],
             [
              0.7777777777777778,
              "#fb9f3a"
             ],
             [
              0.8888888888888888,
              "#fdca26"
             ],
             [
              1,
              "#f0f921"
             ]
            ],
            "type": "surface"
           }
          ],
          "table": [
           {
            "cells": {
             "fill": {
              "color": "#EBF0F8"
             },
             "line": {
              "color": "white"
             }
            },
            "header": {
             "fill": {
              "color": "#C8D4E3"
             },
             "line": {
              "color": "white"
             }
            },
            "type": "table"
           }
          ]
         },
         "layout": {
          "annotationdefaults": {
           "arrowcolor": "#2a3f5f",
           "arrowhead": 0,
           "arrowwidth": 1
          },
          "autotypenumbers": "strict",
          "coloraxis": {
           "colorbar": {
            "outlinewidth": 0,
            "ticks": ""
           }
          },
          "colorscale": {
           "diverging": [
            [
             0,
             "#8e0152"
            ],
            [
             0.1,
             "#c51b7d"
            ],
            [
             0.2,
             "#de77ae"
            ],
            [
             0.3,
             "#f1b6da"
            ],
            [
             0.4,
             "#fde0ef"
            ],
            [
             0.5,
             "#f7f7f7"
            ],
            [
             0.6,
             "#e6f5d0"
            ],
            [
             0.7,
             "#b8e186"
            ],
            [
             0.8,
             "#7fbc41"
            ],
            [
             0.9,
             "#4d9221"
            ],
            [
             1,
             "#276419"
            ]
           ],
           "sequential": [
            [
             0,
             "#0d0887"
            ],
            [
             0.1111111111111111,
             "#46039f"
            ],
            [
             0.2222222222222222,
             "#7201a8"
            ],
            [
             0.3333333333333333,
             "#9c179e"
            ],
            [
             0.4444444444444444,
             "#bd3786"
            ],
            [
             0.5555555555555556,
             "#d8576b"
            ],
            [
             0.6666666666666666,
             "#ed7953"
            ],
            [
             0.7777777777777778,
             "#fb9f3a"
            ],
            [
             0.8888888888888888,
             "#fdca26"
            ],
            [
             1,
             "#f0f921"
            ]
           ],
           "sequentialminus": [
            [
             0,
             "#0d0887"
            ],
            [
             0.1111111111111111,
             "#46039f"
            ],
            [
             0.2222222222222222,
             "#7201a8"
            ],
            [
             0.3333333333333333,
             "#9c179e"
            ],
            [
             0.4444444444444444,
             "#bd3786"
            ],
            [
             0.5555555555555556,
             "#d8576b"
            ],
            [
             0.6666666666666666,
             "#ed7953"
            ],
            [
             0.7777777777777778,
             "#fb9f3a"
            ],
            [
             0.8888888888888888,
             "#fdca26"
            ],
            [
             1,
             "#f0f921"
            ]
           ]
          },
          "colorway": [
           "#636efa",
           "#EF553B",
           "#00cc96",
           "#ab63fa",
           "#FFA15A",
           "#19d3f3",
           "#FF6692",
           "#B6E880",
           "#FF97FF",
           "#FECB52"
          ],
          "font": {
           "color": "#2a3f5f"
          },
          "geo": {
           "bgcolor": "white",
           "lakecolor": "white",
           "landcolor": "#E5ECF6",
           "showlakes": true,
           "showland": true,
           "subunitcolor": "white"
          },
          "hoverlabel": {
           "align": "left"
          },
          "hovermode": "closest",
          "mapbox": {
           "style": "light"
          },
          "paper_bgcolor": "white",
          "plot_bgcolor": "#E5ECF6",
          "polar": {
           "angularaxis": {
            "gridcolor": "white",
            "linecolor": "white",
            "ticks": ""
           },
           "bgcolor": "#E5ECF6",
           "radialaxis": {
            "gridcolor": "white",
            "linecolor": "white",
            "ticks": ""
           }
          },
          "scene": {
           "xaxis": {
            "backgroundcolor": "#E5ECF6",
            "gridcolor": "white",
            "gridwidth": 2,
            "linecolor": "white",
            "showbackground": true,
            "ticks": "",
            "zerolinecolor": "white"
           },
           "yaxis": {
            "backgroundcolor": "#E5ECF6",
            "gridcolor": "white",
            "gridwidth": 2,
            "linecolor": "white",
            "showbackground": true,
            "ticks": "",
            "zerolinecolor": "white"
           },
           "zaxis": {
            "backgroundcolor": "#E5ECF6",
            "gridcolor": "white",
            "gridwidth": 2,
            "linecolor": "white",
            "showbackground": true,
            "ticks": "",
            "zerolinecolor": "white"
           }
          },
          "shapedefaults": {
           "line": {
            "color": "#2a3f5f"
           }
          },
          "ternary": {
           "aaxis": {
            "gridcolor": "white",
            "linecolor": "white",
            "ticks": ""
           },
           "baxis": {
            "gridcolor": "white",
            "linecolor": "white",
            "ticks": ""
           },
           "bgcolor": "#E5ECF6",
           "caxis": {
            "gridcolor": "white",
            "linecolor": "white",
            "ticks": ""
           }
          },
          "title": {
           "x": 0.05
          },
          "xaxis": {
           "automargin": true,
           "gridcolor": "white",
           "linecolor": "white",
           "ticks": "",
           "title": {
            "standoff": 15
           },
           "zerolinecolor": "white",
           "zerolinewidth": 2
          },
          "yaxis": {
           "automargin": true,
           "gridcolor": "white",
           "linecolor": "white",
           "ticks": "",
           "title": {
            "standoff": 15
           },
           "zerolinecolor": "white",
           "zerolinewidth": 2
          }
         }
        }
       }
      }
     },
     "metadata": {},
     "output_type": "display_data"
    }
   ],
   "source": [
    "x, y, z = zip(*c2s)\n",
    "z = list(map(float, z))\n",
    "fig = go.Figure(data=[go.Scatter3d(x=x, y=y, z=z,\n",
    "                                   mode='markers', \n",
    "                                   marker=dict(\n",
    "                                   size=12,\n",
    "                                   color=z,                # set color to an array/list of desired values\n",
    "                                   colorscale='Viridis',   # choose a colorscale\n",
    "                                   opacity=0.8\n",
    "    ))])\n",
    "fig.update_layout(scene = dict(\n",
    "                    xaxis_title='alpha',\n",
    "                    yaxis_title='beta',\n",
    "                    zaxis_title='scaling constant'),\n",
    "                    margin=dict(r=20, b=10, l=10, t=10))\n",
    "fig.show()\n",
    "fig2 = go.Figure(data=[go.Mesh3d(x=x, y=y, z=z, color='rgba(244,22,100,0.6)')])\n",
    "fig2.update_layout(scene = dict(\n",
    "                    xaxis_title='alpha',\n",
    "                    yaxis_title='beta',\n",
    "                    zaxis_title='scaling constant'),\n",
    "                    margin=dict(r=20, b=10, l=10, t=10))\n",
    "fig2.show()"
   ]
  }
 ],
 "metadata": {
  "kernelspec": {
   "display_name": "Python 3",
   "language": "python",
   "name": "python3"
  },
  "language_info": {
   "codemirror_mode": {
    "name": "ipython",
    "version": 3
   },
   "file_extension": ".py",
   "mimetype": "text/x-python",
   "name": "python",
   "nbconvert_exporter": "python",
   "pygments_lexer": "ipython3",
   "version": "3.9.13"
  }
 },
 "nbformat": 4,
 "nbformat_minor": 2
}
